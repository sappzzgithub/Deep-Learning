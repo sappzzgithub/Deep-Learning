{
 "cells": [
  {
   "cell_type": "code",
   "execution_count": 30,
   "id": "aa8e9c1a-0dfb-4f48-9711-529c7d3a8f28",
   "metadata": {},
   "outputs": [],
   "source": [
    "import pandas as pd\n",
    "import numpy as np"
   ]
  },
  {
   "cell_type": "code",
   "execution_count": 31,
   "id": "e8fea941-30ee-4b42-afa1-5754f0d93687",
   "metadata": {},
   "outputs": [],
   "source": [
    "df = pd.DataFrame([[8,8,4],[7,9,5],[6,10,6],[5,12,7]],columns=['cgpa','profile_score','lpa'])"
   ]
  },
  {
   "cell_type": "code",
   "execution_count": 32,
   "id": "af9817f1-bca9-4a38-be70-e3eca45dbdaf",
   "metadata": {},
   "outputs": [],
   "source": [
    "def initialize_parameters(layer_dims):\n",
    "    np.random.seed(3)\n",
    "    parameters = {}\n",
    "    L =len(layer_dims)\n",
    "    for i in range(1,L):\n",
    "        parameters['W', str(i)]  = np.ones((layer_dims[i-1], layer_dims[i])) * 0.1\n",
    "        parameters['b' + str(i)] = np.zeros((layer_dims[i], 1))\n",
    "    return parameters"
   ]
  },
  {
   "cell_type": "markdown",
   "id": "65c5f5b9-0a85-4f1c-bf57-7133016adeae",
   "metadata": {},
   "source": [
    "Forward Propagation"
   ]
  },
  {
   "cell_type": "code",
   "execution_count": 34,
   "id": "27dc0f03-45f3-4ce7-84cc-af016265c44b",
   "metadata": {},
   "outputs": [],
   "source": [
    "def linear_forward(A_prev, W, b):\n",
    "    Z = np.dot(W.T, A_prev) + b\n",
    "    return Z"
   ]
  },
  {
   "cell_type": "code",
   "execution_count": 35,
   "id": "da3c6432-75e7-450b-8a45-748e67eec6e0",
   "metadata": {},
   "outputs": [],
   "source": [
    "def relu(Z):\n",
    "    return np.maximum(0, Z)"
   ]
  },
  {
   "cell_type": "code",
   "execution_count": 36,
   "id": "07ec44e7-7a2e-492f-869a-db3506711059",
   "metadata": {},
   "outputs": [],
   "source": [
    "def L_layer_forward(X, parameters):\n",
    "    A = X\n",
    "    caches = []\n",
    "    L = len(parameters)//2\n",
    "    for i in range(1,L):\n",
    "        A_prev = A\n",
    "        W = parameters['W' + str(i)]\n",
    "        b = parameters['b' + str(i)]\n",
    "        Z = linear_forward(A_prev, W, b)\n",
    "        A = relu(Z)\n",
    "        cache = (A_prev, W, b, Z)\n",
    "        caches.append(cache)"
   ]
  },
  {
   "cell_type": "code",
   "execution_count": 37,
   "id": "40f27ecf-1dbb-4675-ad9d-57c9fa0c566a",
   "metadata": {},
   "outputs": [
    {
     "ename": "NameError",
     "evalue": "name 'parameters' is not defined",
     "output_type": "error",
     "traceback": [
      "\u001b[0;31m---------------------------------------------------------------------------\u001b[0m",
      "\u001b[0;31mNameError\u001b[0m                                 Traceback (most recent call last)",
      "Cell \u001b[0;32mIn[37], line 1\u001b[0m\n\u001b[0;32m----> 1\u001b[0m W_out \u001b[38;5;241m=\u001b[39m parameters[\u001b[38;5;124m'\u001b[39m\u001b[38;5;124mW\u001b[39m\u001b[38;5;124m'\u001b[39m, \u001b[38;5;241m+\u001b[39m \u001b[38;5;28mstr\u001b[39m(L)]\n\u001b[1;32m      2\u001b[0m b_out \u001b[38;5;241m=\u001b[39m parameters[\u001b[38;5;124m'\u001b[39m\u001b[38;5;124mb\u001b[39m\u001b[38;5;124m'\u001b[39m \u001b[38;5;241m+\u001b[39m \u001b[38;5;28mstr\u001b[39m(L)]\n\u001b[1;32m      3\u001b[0m z_out \u001b[38;5;241m=\u001b[39m linear_forward(A, W_out, b_out)\n",
      "\u001b[0;31mNameError\u001b[0m: name 'parameters' is not defined"
     ]
    }
   ],
   "source": [
    "W_out = parameters['W', + str(L)]\n",
    "b_out = parameters['b' + str(L)]\n",
    "z_out = linear_forward(A, W_out, b_out)\n",
    "AL = Z_out\n",
    "\n",
    "return AL, caches"
   ]
  },
  {
   "cell_type": "code",
   "execution_count": null,
   "id": "5381415d-67cb-487a-ac5f-0f50cbaa0d90",
   "metadata": {},
   "outputs": [],
   "source": [
    "X = df[['cgpa','profile_score']].values[0].reshape(2,1)\n",
    "parameters = ini"
   ]
  }
 ],
 "metadata": {
  "kernelspec": {
   "display_name": "Python 3 (ipykernel)",
   "language": "python",
   "name": "python3"
  },
  "language_info": {
   "codemirror_mode": {
    "name": "ipython",
    "version": 3
   },
   "file_extension": ".py",
   "mimetype": "text/x-python",
   "name": "python",
   "nbconvert_exporter": "python",
   "pygments_lexer": "ipython3",
   "version": "3.12.7"
  }
 },
 "nbformat": 4,
 "nbformat_minor": 5
}
